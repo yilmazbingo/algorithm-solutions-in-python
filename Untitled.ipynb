{
 "cells": [
  {
   "cell_type": "code",
   "execution_count": 4,
   "id": "de72d211",
   "metadata": {},
   "outputs": [
    {
     "name": "stdout",
     "output_type": "stream",
     "text": [
      "res before carry deque(['1'])\n",
      "res before carry deque(['0', '1'])\n",
      "res before carry deque(['1', '0', '1'])\n",
      "res before carry deque(['0', '1', '0', '1'])\n",
      "res before carry deque(['1', '0', '1', '0', '1'])\n",
      "deque(['1', '0', '1', '0', '1'])\n"
     ]
    },
    {
     "data": {
      "text/plain": [
       "'10101'"
      ]
     },
     "execution_count": 4,
     "metadata": {},
     "output_type": "execute_result"
    }
   ],
   "source": [
    "from collections import deque\n",
    "class Solution:\n",
    "    def addBinary(self, a: str, b: str) -> str:\n",
    "        res=deque()\n",
    "        i,j=len(a)-1,len(b)-1\n",
    "        carry=0\n",
    "        while i>=0 or j>=0 or carry:\n",
    "            total=carry\n",
    "            if i>=0:\n",
    "                total+=int(a[i])\n",
    "                i-=1\n",
    "            if j>=0:\n",
    "                total+=int(b[j])\n",
    "                j-=1\n",
    "            res.appendleft(str(total%2))\n",
    "            print(\"res before carry\",res)\n",
    "            carry=total//2\n",
    "        print(res)\n",
    "        return \"\".join(res)\n",
    "            \n",
    "            \n",
    "a = \"1010\"\n",
    "b = \"1011\"\n",
    "s=Solution()\n",
    "s.addBinary(a,b)"
   ]
  }
 ],
 "metadata": {
  "kernelspec": {
   "display_name": "Python 3 (ipykernel)",
   "language": "python",
   "name": "python3"
  },
  "language_info": {
   "codemirror_mode": {
    "name": "ipython",
    "version": 3
   },
   "file_extension": ".py",
   "mimetype": "text/x-python",
   "name": "python",
   "nbconvert_exporter": "python",
   "pygments_lexer": "ipython3",
   "version": "3.9.7"
  }
 },
 "nbformat": 4,
 "nbformat_minor": 5
}
