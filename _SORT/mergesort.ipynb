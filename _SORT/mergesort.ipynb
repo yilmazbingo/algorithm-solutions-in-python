{
 "cells": [
  {
   "cell_type": "markdown",
   "metadata": {},
   "source": [
    "Divide and Conquer gives O(logN) advantage. we are gonna divide the list in half till we reach 1 item. time complextiy is O(nlog(N)). \"n\" is for comparing each item. \n",
    "\n",
    "Divide and Conquer uses recursion\n",
    "\n",
    "merge sort is stable. it is space complexity is O(n) which is its downside. Heapsort, Bubblesort, Insertionsort and selection sort has O(1)."
   ]
  },
  {
   "cell_type": "code",
   "execution_count": 38,
   "metadata": {},
   "outputs": [],
   "source": [
    "import traceback\n",
    "# Base case is when I have single elements \n",
    "def mergesort(A,left,right):#left is first index, right is last index\n",
    "    if left < right:\n",
    "        mid=(left+right)//2\n",
    "        mergesort(A,left,mid)  \n",
    "        mergesort(A,mid+1,right)\n",
    "        # all this recursive calls are added to call stack so far\n",
    "#         traceback.print_stack()\n",
    "       \n",
    "        merge(A,left,mid,right)\n",
    "        \n",
    "# this is conqueering part    \n",
    "def merge(A,left,mid,right):\n",
    "    print(\"left\",left,\"right: \",right, \"mid: \",mid,A[right])\n",
    "    i=left \n",
    "    j=mid+1\n",
    "    #it is used for the temporary array to merge the elements\n",
    "    k=left \n",
    "    #creating a temp array to sort\n",
    "    B=[0]*(right+1)\n",
    "    while i<=mid and j<=right: #comparing elements of two arrays\n",
    "#         print(\"A[i]\",A[i])\n",
    "        if A[i]<A[j]:\n",
    "            B[k]=A[i]\n",
    "            i=i+1\n",
    "           \n",
    "        else:\n",
    "            B[k]=A[j]\n",
    "          \n",
    "            j=j+1\n",
    "        k=k+1\n",
    "    # if we had more elements in left subset\n",
    "    while i<=mid:\n",
    "        B[k]=A[i]\n",
    "        i=i+1\n",
    "        k=k+1\n",
    "    # if we had more elements in right subset\n",
    "    while j <=right:\n",
    "        B[k]=A[j]\n",
    "        j=j+1\n",
    "        k=k+1\n",
    "    # copy all the elements from arrayB to arrayA\n",
    "    for x in range(left,right+1):\n",
    "        A[x]=B[x]"
   ]
  },
  {
   "cell_type": "code",
   "execution_count": 39,
   "metadata": {},
   "outputs": [
    {
     "name": "stdout",
     "output_type": "stream",
     "text": [
      "left 0 right:  1 mid:  0 32\n",
      "left 2 right:  3 mid:  2 11\n",
      "left 0 right:  3 mid:  1 232\n",
      "left 4 right:  5 mid:  4 9\n",
      "left 4 right:  6 mid:  5 3\n",
      "left 0 right:  6 mid:  3 112\n"
     ]
    }
   ],
   "source": [
    "A=[12,32,232,11,112,9,3]\n",
    "mergesort(A,0,len(A)-1)\n",
    "# print(A)"
   ]
  }
 ],
 "metadata": {
  "kernelspec": {
   "display_name": "Python 3 (ipykernel)",
   "language": "python",
   "name": "python3"
  },
  "language_info": {
   "codemirror_mode": {
    "name": "ipython",
    "version": 3
   },
   "file_extension": ".py",
   "mimetype": "text/x-python",
   "name": "python",
   "nbconvert_exporter": "python",
   "pygments_lexer": "ipython3",
   "version": "3.9.2"
  }
 },
 "nbformat": 4,
 "nbformat_minor": 4
}
