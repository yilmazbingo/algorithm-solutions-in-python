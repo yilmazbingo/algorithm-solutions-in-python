{
 "cells": [
  {
   "cell_type": "markdown",
   "metadata": {},
   "source": [
    "- Divide the collection of elements into subsets \n",
    "- Partition based on element Pivot\n",
    "- Recursively sort the partititons using quick sort\n",
    "- Divide and conquer approach"
   ]
  },
  {
   "cell_type": "markdown",
   "metadata": {},
   "source": [
    "- Pivot is the number that left side elements are smaller than it, and right elements are greater than it.\n",
    "[28,37,45,15,56,86,92,63,78]\n",
    "- 56 is pivot. its said to be sorted element. this process is called Partitioning. quick sort will work if we have more than 1 element. "
   ]
  },
  {
   "cell_type": "markdown",
   "metadata": {},
   "source": [
    "- partion at Levels:1+2+4+8+....= log2(n)\n",
    "- Comparisons at each level: n\n",
    "- Total time spent: n * log2n=O(nlog(n))\n",
    "- worst case for quick sort when the elements are sorted and O(n*n)"
   ]
  },
  {
   "cell_type": "code",
   "execution_count": 5,
   "metadata": {},
   "outputs": [],
   "source": [
    "def quick_sort(A,low,high):\n",
    "    if not isinstance(A,list):\n",
    "        raise TypeError(\"\")\n",
    "    if low<high:\n",
    "        pi=partition(A,low,high)#rearranges elements in the array then returns the index of the pivot\n",
    "        quick_sort(A,low,pi-1)\n",
    "        quick_sort(A,pi+1,high)\n",
    "        \n",
    "        \n",
    "        "
   ]
  },
  {
   "cell_type": "code",
   "execution_count": 4,
   "metadata": {},
   "outputs": [],
   "source": [
    "def partition(A,low,high):\n",
    "    pivot=A[low]\n",
    "    # when reference i passes the reference j, all elements are traversed. \n",
    "    # element at jth position will be swapped with the pivot\n",
    "    i=low+1\n",
    "    j=high\n",
    "    #python does not have do-while loop. if we had do-while, we would i=i+1.\n",
    "    #since we dont have do while, we assign i=low+1\n",
    "    while True:\n",
    "        #pivot is first. we want to bring all the smaller value to left, greater values to its rightb\n",
    "        while i<=j and A[i]<=pivot:\n",
    "            i=i+1\n",
    "        while i<=j and A[j]>pivot:\n",
    "            j=j-1\n",
    "        if i<=j:\n",
    "            A[i],A[j]=A[j],A[i]     \n",
    "        else:\n",
    "             #when i crosses j loop exists, we found the partitioning position\n",
    "            break\n",
    "    A[low],A[j]=A[j],A[low]\n",
    "    return j\n",
    "        "
   ]
  },
  {
   "cell_type": "code",
   "execution_count": 6,
   "metadata": {},
   "outputs": [
    {
     "data": {
      "text/plain": [
       "[11, 22, 23, 33, 322, 544]"
      ]
     },
     "execution_count": 6,
     "metadata": {},
     "output_type": "execute_result"
    }
   ],
   "source": [
    "A=[23,544,22,322,33,11]\n",
    "quick_sort(A,0,len(A)-1)\n",
    "A"
   ]
  },
  {
   "cell_type": "code",
   "execution_count": 6,
   "metadata": {},
   "outputs": [],
   "source": [
    "a=[2,\"A\",True]"
   ]
  }
 ],
 "metadata": {
  "kernelspec": {
   "display_name": "Python 3 (ipykernel)",
   "language": "python",
   "name": "python3"
  },
  "language_info": {
   "codemirror_mode": {
    "name": "ipython",
    "version": 3
   },
   "file_extension": ".py",
   "mimetype": "text/x-python",
   "name": "python",
   "nbconvert_exporter": "python",
   "pygments_lexer": "ipython3",
   "version": "3.9.2"
  }
 },
 "nbformat": 4,
 "nbformat_minor": 4
}
