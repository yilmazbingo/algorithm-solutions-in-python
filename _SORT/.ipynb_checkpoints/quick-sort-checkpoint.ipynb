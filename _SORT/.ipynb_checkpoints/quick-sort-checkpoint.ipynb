{
 "cells": [
  {
   "cell_type": "markdown",
   "metadata": {},
   "source": [
    "quick_sort sorts the array in-place. "
   ]
  },
  {
   "cell_type": "markdown",
   "metadata": {},
   "source": [
    "- Divide the collection of elements into subsets \n",
    "- Partition based on element Pivot\n",
    "- Recursively sort the partititons using quick sort\n",
    "- Divide and conquer approach"
   ]
  },
  {
   "cell_type": "markdown",
   "metadata": {},
   "source": [
    "- Pivot is the number that left side elements are smaller than it, and right elements are greater than it.\n",
    "[28,37,45,15,56,86,92,63,78]\n",
    "- 56 is pivot. its said to be sorted element. this process is called Partitioning. quick sort will work if we have more than 1 element. "
   ]
  },
  {
   "cell_type": "markdown",
   "metadata": {},
   "source": [
    "- partion at Levels:1+2+4+8+....= log2(n)\n",
    "- Comparisons at each level: n\n",
    "- Total time spent: n * log2n=O(nlog(n))\n",
    "- worst case for quick sort when the elements are sorted and O(n*n)"
   ]
  },
  {
   "cell_type": "code",
   "execution_count": 2,
   "metadata": {},
   "outputs": [],
   "source": [
    "def quick_sort(A,low,high):\n",
    "    if not isinstance(A,list):\n",
    "        raise TypeError(\"You did not pass a list to be sorted\")\n",
    "    if low<high:\n",
    "        pi=partition(A,low,high)#rearranges elements in the array then returns the index of the pivot\n",
    "        quick_sort(A,low,pi-1)\n",
    "        quick_sort(A,pi+1,high)\n",
    "        \n",
    "        \n",
    "        "
   ]
  },
  {
   "cell_type": "code",
   "execution_count": 3,
   "metadata": {},
   "outputs": [],
   "source": [
    "def partition(A,low,high):\n",
    "    pivot=A[low]\n",
    "    # when reference i passes the reference j, all elements are traversed. \n",
    "    # element at jth position will be swapped with the pivot\n",
    "    i=low+1\n",
    "    j=high\n",
    "    #python does not have do-while loop. if we had do-while, we would i=i+1.\n",
    "    #since we dont have do while, we assign i=low+1\n",
    "    while True:\n",
    "        #pivot is first. we want to bring all the smaller value to left, greater values to its rightb\n",
    "        while i<=j and A[i]<=pivot:\n",
    "            i=i+1\n",
    "        while i<=j and A[j]>pivot:\n",
    "            j=j-1\n",
    "        if i<=j:\n",
    "            A[i],A[j]=A[j],A[i]     \n",
    "        else:\n",
    "             #when i crosses j loop exists, we found the partitioning position\n",
    "            break\n",
    "    A[low],A[j]=A[j],A[low]\n",
    "    return j\n",
    "        "
   ]
  },
  {
   "cell_type": "code",
   "execution_count": 4,
   "metadata": {},
   "outputs": [
    {
     "ename": "TypeError",
     "evalue": "You did not pass a list to be sorted",
     "output_type": "error",
     "traceback": [
      "\u001b[0;31m---------------------------------------------------------------------------\u001b[0m",
      "\u001b[0;31mTypeError\u001b[0m                                 Traceback (most recent call last)",
      "\u001b[0;32m/tmp/ipykernel_231742/1001363156.py\u001b[0m in \u001b[0;36m<module>\u001b[0;34m\u001b[0m\n\u001b[1;32m      1\u001b[0m \u001b[0mA\u001b[0m\u001b[0;34m=\u001b[0m\u001b[0;34m[\u001b[0m\u001b[0;36m23\u001b[0m\u001b[0;34m,\u001b[0m\u001b[0;36m544\u001b[0m\u001b[0;34m,\u001b[0m\u001b[0;36m22\u001b[0m\u001b[0;34m,\u001b[0m\u001b[0;36m322\u001b[0m\u001b[0;34m,\u001b[0m\u001b[0;36m33\u001b[0m\u001b[0;34m,\u001b[0m\u001b[0;36m11\u001b[0m\u001b[0;34m]\u001b[0m\u001b[0;34m\u001b[0m\u001b[0;34m\u001b[0m\u001b[0m\n\u001b[0;32m----> 2\u001b[0;31m \u001b[0mquick_sort\u001b[0m\u001b[0;34m(\u001b[0m\u001b[0;34m\"salkf\"\u001b[0m\u001b[0;34m,\u001b[0m\u001b[0;36m0\u001b[0m\u001b[0;34m,\u001b[0m\u001b[0mlen\u001b[0m\u001b[0;34m(\u001b[0m\u001b[0mA\u001b[0m\u001b[0;34m)\u001b[0m\u001b[0;34m-\u001b[0m\u001b[0;36m1\u001b[0m\u001b[0;34m)\u001b[0m\u001b[0;34m\u001b[0m\u001b[0;34m\u001b[0m\u001b[0m\n\u001b[0m\u001b[1;32m      3\u001b[0m \u001b[0mA\u001b[0m\u001b[0;34m\u001b[0m\u001b[0;34m\u001b[0m\u001b[0m\n",
      "\u001b[0;32m/tmp/ipykernel_231742/2559305161.py\u001b[0m in \u001b[0;36mquick_sort\u001b[0;34m(A, low, high)\u001b[0m\n\u001b[1;32m      1\u001b[0m \u001b[0;32mdef\u001b[0m \u001b[0mquick_sort\u001b[0m\u001b[0;34m(\u001b[0m\u001b[0mA\u001b[0m\u001b[0;34m,\u001b[0m\u001b[0mlow\u001b[0m\u001b[0;34m,\u001b[0m\u001b[0mhigh\u001b[0m\u001b[0;34m)\u001b[0m\u001b[0;34m:\u001b[0m\u001b[0;34m\u001b[0m\u001b[0;34m\u001b[0m\u001b[0m\n\u001b[1;32m      2\u001b[0m     \u001b[0;32mif\u001b[0m \u001b[0;32mnot\u001b[0m \u001b[0misinstance\u001b[0m\u001b[0;34m(\u001b[0m\u001b[0mA\u001b[0m\u001b[0;34m,\u001b[0m\u001b[0mlist\u001b[0m\u001b[0;34m)\u001b[0m\u001b[0;34m:\u001b[0m\u001b[0;34m\u001b[0m\u001b[0;34m\u001b[0m\u001b[0m\n\u001b[0;32m----> 3\u001b[0;31m         \u001b[0;32mraise\u001b[0m \u001b[0mTypeError\u001b[0m\u001b[0;34m(\u001b[0m\u001b[0;34m\"You did not pass a list to be sorted\"\u001b[0m\u001b[0;34m)\u001b[0m\u001b[0;34m\u001b[0m\u001b[0;34m\u001b[0m\u001b[0m\n\u001b[0m\u001b[1;32m      4\u001b[0m     \u001b[0;32mif\u001b[0m \u001b[0mlow\u001b[0m\u001b[0;34m<\u001b[0m\u001b[0mhigh\u001b[0m\u001b[0;34m:\u001b[0m\u001b[0;34m\u001b[0m\u001b[0;34m\u001b[0m\u001b[0m\n\u001b[1;32m      5\u001b[0m         \u001b[0mpi\u001b[0m\u001b[0;34m=\u001b[0m\u001b[0mpartition\u001b[0m\u001b[0;34m(\u001b[0m\u001b[0mA\u001b[0m\u001b[0;34m,\u001b[0m\u001b[0mlow\u001b[0m\u001b[0;34m,\u001b[0m\u001b[0mhigh\u001b[0m\u001b[0;34m)\u001b[0m\u001b[0;31m#rearranges elements in the array then returns the index of the pivot\u001b[0m\u001b[0;34m\u001b[0m\u001b[0;34m\u001b[0m\u001b[0m\n",
      "\u001b[0;31mTypeError\u001b[0m: You did not pass a list to be sorted"
     ]
    }
   ],
   "source": [
    "A=[23,544,22,322,33,11]\n",
    "quick_sort(A,0,len(A)-1)\n",
    "A"
   ]
  },
  {
   "cell_type": "code",
   "execution_count": 6,
   "metadata": {},
   "outputs": [],
   "source": [
    "a=[2,\"A\",True]"
   ]
  }
 ],
 "metadata": {
  "kernelspec": {
   "display_name": "Python 3 (ipykernel)",
   "language": "python",
   "name": "python3"
  },
  "language_info": {
   "codemirror_mode": {
    "name": "ipython",
    "version": 3
   },
   "file_extension": ".py",
   "mimetype": "text/x-python",
   "name": "python",
   "nbconvert_exporter": "python",
   "pygments_lexer": "ipython3",
   "version": "3.9.2"
  }
 },
 "nbformat": 4,
 "nbformat_minor": 4
}
